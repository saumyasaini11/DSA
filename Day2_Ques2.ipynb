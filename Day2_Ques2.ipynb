{
  "nbformat": 4,
  "nbformat_minor": 0,
  "metadata": {
    "colab": {
      "provenance": [],
      "authorship_tag": "ABX9TyPP0D7PtMEW3sPIj5Bqyked",
      "include_colab_link": true
    },
    "kernelspec": {
      "name": "python3",
      "display_name": "Python 3"
    },
    "language_info": {
      "name": "python"
    }
  },
  "cells": [
    {
      "cell_type": "markdown",
      "metadata": {
        "id": "view-in-github",
        "colab_type": "text"
      },
      "source": [
        "<a href=\"https://colab.research.google.com/github/saumyasaini11/DSA/blob/main/Day2_Ques2.ipynb\" target=\"_parent\"><img src=\"https://colab.research.google.com/assets/colab-badge.svg\" alt=\"Open In Colab\"/></a>"
      ]
    },
    {
      "cell_type": "code",
      "source": [
        "def rank_after_each_round(leaderboard, player_score):\n",
        "    if leaderboard is None or player_score is None:\n",
        "        return None\n",
        "    rank = [0] * len(player_score)\n",
        "\n",
        "    for i in range(len(player_score)):\n",
        "        count = 0\n",
        "        j = 0\n",
        "        while j < len(leaderboard) and player_score[i] < leaderboard[j]:\n",
        "            if j < len(leaderboard) - 1 and leaderboard[j] == leaderboard[j + 1]:\n",
        "                j += 1\n",
        "                continue\n",
        "            count += 1\n",
        "            j += 1\n",
        "        rank[i] = count + 1\n",
        "    return rank\n",
        "\n",
        "def main():\n",
        "    leaderboard = [160, 120, 100, 95, 85, 80, 80, 75]  # test case_1\n",
        "    player_score = [60, 80, 90, 100, 120]\n",
        "    rank = rank_after_each_round(leaderboard, player_score)\n",
        "    print(\"Output from test case 1\")\n",
        "    for r in rank:\n",
        "        print(r)\n",
        "\n",
        "    leaderboard1 = [100, 95, 85, 70]  # test case_2\n",
        "    player_scores1 = [70, 80, 120]\n",
        "    rank1 = rank_after_each_round(leaderboard1, player_scores1)\n",
        "    print(\"Output from test case 2\")\n",
        "    for r in rank1:\n",
        "        print(r)\n",
        "\n",
        "main()\n",
        "\n"
      ],
      "metadata": {
        "colab": {
          "base_uri": "https://localhost:8080/"
        },
        "id": "-B1oiHpHXO_N",
        "outputId": "d0039cd9-188a-4aa5-ead1-d4ffc4887883"
      },
      "execution_count": 7,
      "outputs": [
        {
          "output_type": "stream",
          "name": "stdout",
          "text": [
            "Output from test case 1\n",
            "8\n",
            "6\n",
            "5\n",
            "3\n",
            "2\n",
            "Output from test case 2\n",
            "4\n",
            "4\n",
            "1\n"
          ]
        }
      ]
    }
  ]
}