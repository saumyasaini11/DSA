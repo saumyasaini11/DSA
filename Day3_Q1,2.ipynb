{
  "nbformat": 4,
  "nbformat_minor": 0,
  "metadata": {
    "colab": {
      "provenance": [],
      "authorship_tag": "ABX9TyMlPu+LgCsTgOwH0Cnx5O7s",
      "include_colab_link": true
    },
    "kernelspec": {
      "name": "python3",
      "display_name": "Python 3"
    },
    "language_info": {
      "name": "python"
    }
  },
  "cells": [
    {
      "cell_type": "markdown",
      "metadata": {
        "id": "view-in-github",
        "colab_type": "text"
      },
      "source": [
        "<a href=\"https://colab.research.google.com/github/saumyasaini11/DSA/blob/main/Day3_Q1%2C2.ipynb\" target=\"_parent\"><img src=\"https://colab.research.google.com/assets/colab-badge.svg\" alt=\"Open In Colab\"/></a>"
      ]
    },
    {
      "cell_type": "code",
      "source": [
        "#QUES1\n",
        "\n",
        "import string\n",
        "\n",
        "sentence = input(\"Enter a sentence: \")\n",
        "\n",
        "check_pangram = all(char in sentence.lower() for char in string.ascii_lowercase)\n",
        "\n",
        "if check_pangram:\n",
        "  print(\"Complete\")\n",
        "else:\n",
        "  print(\"Incomplete\")\n",
        "\n",
        "#Test case 1\n",
        "#Enter a sentence: The quick brown fox jumps over the lazy dog\n",
        "#Complete\n",
        "\n",
        "#Test case 2\n",
        "#Enter a sentence: This is a book\n",
        "#Incomplete\n",
        "\n"
      ],
      "metadata": {
        "colab": {
          "base_uri": "https://localhost:8080/"
        },
        "id": "sWd4AueCvJZU",
        "outputId": "59b1e37d-8afc-4d72-f394-9ba4c9ee6205"
      },
      "execution_count": 43,
      "outputs": [
        {
          "output_type": "stream",
          "name": "stdout",
          "text": [
            "Enter a sentence: This is a book\n",
            "Incomplete\n"
          ]
        }
      ]
    },
    {
      "cell_type": "code",
      "source": [
        "# QUES2\n",
        "import string\n",
        "\n",
        "def check_symmetry(input_str):\n",
        "    input_str = input_str.lower()\n",
        "    reversed_str = input_str[::-1]\n",
        "    swapped_str = ''.join(chr(ord('z') - (ord(c) - ord('a'))) for c in reversed_str)\n",
        "    if input_str == swapped_str:\n",
        "        return \"symmetrical\"\n",
        "\n",
        "    else:\n",
        "      return \"not symmetrical\"\n",
        "\n",
        "\n",
        "input_str = input(\"Enter a string: \")\n",
        "print(check_symmetry(input_str))\n",
        "\n",
        "#TEST CASE 1\n",
        "#Enter a string: axcz\n",
        "#symmetrical\n",
        "\n",
        "#TEST CASE 2\n",
        "#Enter a string: hello\n",
        "#not symmetrical\n",
        "\n"
      ],
      "metadata": {
        "colab": {
          "base_uri": "https://localhost:8080/"
        },
        "id": "k61Flo0_wd5G",
        "outputId": "cd2623aa-4dca-4c1a-9932-d4237e235ad4"
      },
      "execution_count": 47,
      "outputs": [
        {
          "output_type": "stream",
          "name": "stdout",
          "text": [
            "Enter a string: hello\n",
            "not symmetrical\n"
          ]
        }
      ]
    }
  ]
}