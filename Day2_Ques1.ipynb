{
  "nbformat": 4,
  "nbformat_minor": 0,
  "metadata": {
    "colab": {
      "provenance": [],
      "authorship_tag": "ABX9TyNGNiAmoRPAFV6w4JJj/ch3",
      "include_colab_link": true
    },
    "kernelspec": {
      "name": "python3",
      "display_name": "Python 3"
    },
    "language_info": {
      "name": "python"
    }
  },
  "cells": [
    {
      "cell_type": "markdown",
      "metadata": {
        "id": "view-in-github",
        "colab_type": "text"
      },
      "source": [
        "<a href=\"https://colab.research.google.com/github/saumyasaini11/DSA/blob/main/Day2_Ques1.ipynb\" target=\"_parent\"><img src=\"https://colab.research.google.com/assets/colab-badge.svg\" alt=\"Open In Colab\"/></a>"
      ]
    },
    {
      "cell_type": "code",
      "execution_count": 1,
      "metadata": {
        "colab": {
          "base_uri": "https://localhost:8080/"
        },
        "id": "Lg8yeALqRG6l",
        "outputId": "4966c1d7-6670-4801-f480-56fc3f99dec7"
      },
      "outputs": [
        {
          "output_type": "stream",
          "name": "stdout",
          "text": [
            "Output from test case-1\n",
            "NO\n",
            "Output from test case-2\n",
            "NO\n",
            "Output from test case-3\n",
            "YES\n"
          ]
        }
      ],
      "source": [
        "def should_class_be_cancelled(arrival_times, threshold):\n",
        "    student_on_time = 0\n",
        "    for time in arrival_times:\n",
        "        if time <= 0:\n",
        "            student_on_time += 1\n",
        "    if student_on_time < threshold:\n",
        "        print(\"YES\")\n",
        "    else:\n",
        "        print(\"NO\")\n",
        "\n",
        "# Test case - 1\n",
        "case1 = [-1, -3, 4, 2]\n",
        "threshold = 2\n",
        "print(\"Output from test case 1\")\n",
        "should_class_be_cancelled(case1, threshold)\n",
        "\n",
        "# Test case - 2\n",
        "case2 = [-1, -3, 0, -8, 4, 2]\n",
        "threshold = 3\n",
        "print(\"Output from test case 2\")\n",
        "should_class_be_cancelled(case2, threshold)\n",
        "\n",
        "# Test case - 3\n",
        "case3 = [-1, -3, 0, -8, 4, 2]\n",
        "threshold = 6\n",
        "print(\"Output from test case 3\")\n",
        "should_class_be_cancelled(case3, threshold)\n",
        "\n"
      ]
    }
  ]
}